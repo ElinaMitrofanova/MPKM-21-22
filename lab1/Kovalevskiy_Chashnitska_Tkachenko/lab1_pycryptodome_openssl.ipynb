{
  "nbformat": 4,
  "nbformat_minor": 5,
  "metadata": {
    "celltoolbar": "Отсутствует",
    "kernelspec": {
      "display_name": "Python 3",
      "language": "python",
      "name": "python3"
    },
    "language_info": {
      "codemirror_mode": {
        "name": "ipython",
        "version": 3
      },
      "file_extension": ".py",
      "mimetype": "text/x-python",
      "name": "python",
      "nbconvert_exporter": "python",
      "pygments_lexer": "ipython3",
      "version": "3.8.5"
    },
    "colab": {
      "name": "lab1_pycryptodome_openssl.ipynb",
      "provenance": [],
      "collapsed_sections": []
    }
  },
  "cells": [
    {
      "cell_type": "code",
      "metadata": {
        "colab": {
          "base_uri": "https://localhost:8080/"
        },
        "id": "e196e387",
        "outputId": "5b020af9-d1be-456f-861e-62104136fa01"
      },
      "source": [
        "!pip install pycryptodome\n",
        "from Crypto.Cipher import AES\n",
        "from Crypto.Hash import SHA256, SHA512\n",
        "from Crypto.Random import get_random_bytes\n",
        "from Crypto.Util.Padding import pad\n",
        "from Crypto.PublicKey import RSA\n",
        "import numpy as np\n",
        "%matplotlib inline\n",
        "from matplotlib import pyplot as plt\n",
        "import seaborn as sns\n",
        "sns.set_style('darkgrid')"
      ],
      "id": "e196e387",
      "execution_count": null,
      "outputs": [
        {
          "output_type": "stream",
          "name": "stdout",
          "text": [
            "Requirement already satisfied: pycryptodome in /usr/local/lib/python3.7/dist-packages (3.11.0)\n"
          ]
        }
      ]
    },
    {
      "cell_type": "code",
      "metadata": {
        "id": "6c7b0f10"
      },
      "source": [
        "blocks = [16, 64, 256, 1024, 8192, 16384]"
      ],
      "id": "6c7b0f10",
      "execution_count": null,
      "outputs": []
    },
    {
      "cell_type": "markdown",
      "metadata": {
        "id": "7Lmjq1R1-6wm"
      },
      "source": [
        "# Скорость шифрования AES"
      ],
      "id": "7Lmjq1R1-6wm"
    },
    {
      "cell_type": "code",
      "metadata": {
        "colab": {
          "base_uri": "https://localhost:8080/"
        },
        "id": "07bb82ff",
        "outputId": "5c60fb81-a69e-4130-86ba-70a7164fe8e5"
      },
      "source": [
        "# def measure_AES_speed():\n",
        "measures_AES = []\n",
        "for block in blocks:\n",
        "    data = get_random_bytes(block)\n",
        "    key = get_random_bytes(32)\n",
        "    iv = get_random_bytes(16)\n",
        "    cipher = AES.new(key, AES.MODE_CBC, iv=iv)\n",
        "    a = %timeit -o cipher.encrypt(pad(data, AES.block_size))\n",
        "    measures_AES.append(np.mean(a.all_runs))\n",
        "    # return measures"
      ],
      "id": "07bb82ff",
      "execution_count": null,
      "outputs": [
        {
          "output_type": "stream",
          "name": "stdout",
          "text": [
            "The slowest run took 273.26 times longer than the fastest. This could mean that an intermediate result is being cached.\n",
            "100000 loops, best of 5: 4.45 µs per loop\n",
            "The slowest run took 4.86 times longer than the fastest. This could mean that an intermediate result is being cached.\n",
            "100000 loops, best of 5: 4.55 µs per loop\n",
            "The slowest run took 4.53 times longer than the fastest. This could mean that an intermediate result is being cached.\n",
            "100000 loops, best of 5: 5.12 µs per loop\n",
            "The slowest run took 5.63 times longer than the fastest. This could mean that an intermediate result is being cached.\n",
            "100000 loops, best of 5: 6.76 µs per loop\n",
            "The slowest run took 4.86 times longer than the fastest. This could mean that an intermediate result is being cached.\n",
            "10000 loops, best of 5: 22.2 µs per loop\n",
            "10000 loops, best of 5: 40.5 µs per loop\n"
          ]
        }
      ]
    },
    {
      "cell_type": "code",
      "metadata": {
        "colab": {
          "base_uri": "https://localhost:8080/"
        },
        "id": "-Nw7oh95mqPO",
        "outputId": "290deebc-a2b1-4a5f-8de1-c80e291b514d"
      },
      "source": [
        "measures_AES"
      ],
      "id": "-Nw7oh95mqPO",
      "execution_count": null,
      "outputs": [
        {
          "output_type": "execute_result",
          "data": {
            "text/plain": [
              "[0.4753024566009117,\n",
              " 0.47111643300013384,\n",
              " 0.5202135963998444,\n",
              " 0.6977971226006048,\n",
              " 0.22632523420033976,\n",
              " 0.40765817260107723]"
            ]
          },
          "metadata": {},
          "execution_count": 50
        }
      ]
    },
    {
      "cell_type": "markdown",
      "metadata": {
        "id": "63GZ9zmk-_lz"
      },
      "source": [
        "# Скорость SHA256"
      ],
      "id": "63GZ9zmk-_lz"
    },
    {
      "cell_type": "code",
      "metadata": {
        "colab": {
          "base_uri": "https://localhost:8080/"
        },
        "id": "IKk9bTwJoXcR",
        "outputId": "afd1ebc3-01aa-461b-a376-ffc33a8f107e"
      },
      "source": [
        "# def measure_SHA256_speed():\n",
        "measures_SHA256 = []\n",
        "for block in blocks:\n",
        "    data = get_random_bytes(block)\n",
        "    hash_object = SHA256.new(data)\n",
        "    a = %timeit -o hash_object.digest()\n",
        "    measures_SHA256.append(np.mean(a.all_runs))\n",
        "    # return measures"
      ],
      "id": "IKk9bTwJoXcR",
      "execution_count": null,
      "outputs": [
        {
          "output_type": "stream",
          "name": "stdout",
          "text": [
            "The slowest run took 68.21 times longer than the fastest. This could mean that an intermediate result is being cached.\n",
            "100000 loops, best of 5: 2.49 µs per loop\n",
            "The slowest run took 5.32 times longer than the fastest. This could mean that an intermediate result is being cached.\n",
            "100000 loops, best of 5: 2.45 µs per loop\n",
            "The slowest run took 6.44 times longer than the fastest. This could mean that an intermediate result is being cached.\n",
            "100000 loops, best of 5: 2.53 µs per loop\n",
            "The slowest run took 6.14 times longer than the fastest. This could mean that an intermediate result is being cached.\n",
            "100000 loops, best of 5: 2.49 µs per loop\n",
            "The slowest run took 6.33 times longer than the fastest. This could mean that an intermediate result is being cached.\n",
            "100000 loops, best of 5: 2.48 µs per loop\n",
            "The slowest run took 6.13 times longer than the fastest. This could mean that an intermediate result is being cached.\n",
            "100000 loops, best of 5: 2.47 µs per loop\n"
          ]
        }
      ]
    },
    {
      "cell_type": "code",
      "metadata": {
        "colab": {
          "base_uri": "https://localhost:8080/"
        },
        "id": "h0WyxU0XpeYa",
        "outputId": "d6ff26fa-aab2-4e8d-8be6-bd114ef64f40"
      },
      "source": [
        "measures_SHA256"
      ],
      "id": "h0WyxU0XpeYa",
      "execution_count": null,
      "outputs": [
        {
          "output_type": "execute_result",
          "data": {
            "text/plain": [
              "[0.2557844129994919,\n",
              " 0.2516272819993901,\n",
              " 0.25525778719966186,\n",
              " 0.2542920400002913,\n",
              " 0.2570922049984802,\n",
              " 0.2516652723999869]"
            ]
          },
          "metadata": {},
          "execution_count": 52
        }
      ]
    },
    {
      "cell_type": "markdown",
      "metadata": {
        "id": "j21DVuNN_E1O"
      },
      "source": [
        "# Скорость SHA512"
      ],
      "id": "j21DVuNN_E1O"
    },
    {
      "cell_type": "code",
      "metadata": {
        "colab": {
          "base_uri": "https://localhost:8080/"
        },
        "id": "SBRbJ5PGxgQc",
        "outputId": "eb59813f-70b1-405f-b1de-3925e8b2a8c7"
      },
      "source": [
        "measures_SHA512 = []\n",
        "for block in blocks:\n",
        "    data = get_random_bytes(block)\n",
        "    hash_object = SHA512.new(data)\n",
        "    a = %timeit -o hash_object.digest()\n",
        "    measures_SHA512.append(np.mean(a.all_runs))"
      ],
      "id": "SBRbJ5PGxgQc",
      "execution_count": null,
      "outputs": [
        {
          "output_type": "stream",
          "name": "stdout",
          "text": [
            "The slowest run took 39.21 times longer than the fastest. This could mean that an intermediate result is being cached.\n",
            "100000 loops, best of 5: 2.61 µs per loop\n",
            "The slowest run took 6.07 times longer than the fastest. This could mean that an intermediate result is being cached.\n",
            "100000 loops, best of 5: 2.58 µs per loop\n",
            "The slowest run took 5.36 times longer than the fastest. This could mean that an intermediate result is being cached.\n",
            "100000 loops, best of 5: 2.59 µs per loop\n",
            "The slowest run took 5.95 times longer than the fastest. This could mean that an intermediate result is being cached.\n",
            "100000 loops, best of 5: 2.6 µs per loop\n",
            "The slowest run took 5.69 times longer than the fastest. This could mean that an intermediate result is being cached.\n",
            "100000 loops, best of 5: 2.64 µs per loop\n",
            "The slowest run took 5.54 times longer than the fastest. This could mean that an intermediate result is being cached.\n",
            "100000 loops, best of 5: 2.6 µs per loop\n"
          ]
        }
      ]
    },
    {
      "cell_type": "code",
      "metadata": {
        "colab": {
          "base_uri": "https://localhost:8080/"
        },
        "id": "IXDKb0eoxyCT",
        "outputId": "7bb97182-3a66-44c3-db63-0983998e1799"
      },
      "source": [
        "measures_SHA512"
      ],
      "id": "IXDKb0eoxyCT",
      "execution_count": null,
      "outputs": [
        {
          "output_type": "execute_result",
          "data": {
            "text/plain": [
              "[0.26738396900036604,\n",
              " 0.2647209078000742,\n",
              " 0.2690132652001921,\n",
              " 0.2643862063996494,\n",
              " 0.2674928758009628,\n",
              " 0.267132725600095]"
            ]
          },
          "metadata": {},
          "execution_count": 54
        }
      ]
    },
    {
      "cell_type": "markdown",
      "metadata": {
        "id": "6vysfdwi_H93"
      },
      "source": [
        "# Скорость создания пары ключей RSA"
      ],
      "id": "6vysfdwi_H93"
    },
    {
      "cell_type": "code",
      "metadata": {
        "colab": {
          "base_uri": "https://localhost:8080/"
        },
        "id": "q8swwc60yiAY",
        "outputId": "fc19be27-0e36-43ce-a129-d2eb050c8a70"
      },
      "source": [
        "RSA_blocks = [1024, 2048, 4096, 8192]\n",
        "keypair_measures_RSA = []\n",
        "for block in RSA_blocks:\n",
        "    a = %timeit -o key = RSA.generate(block)\n",
        "    keypair_measures_RSA.append(np.mean(a.all_runs))"
      ],
      "id": "q8swwc60yiAY",
      "execution_count": null,
      "outputs": [
        {
          "output_type": "stream",
          "name": "stdout",
          "text": [
            "10 loops, best of 5: 141 ms per loop\n",
            "1 loop, best of 5: 380 ms per loop\n",
            "The slowest run took 4.87 times longer than the fastest. This could mean that an intermediate result is being cached.\n",
            "1 loop, best of 5: 1.9 s per loop\n",
            "The slowest run took 8.13 times longer than the fastest. This could mean that an intermediate result is being cached.\n",
            "1 loop, best of 5: 13.7 s per loop\n"
          ]
        }
      ]
    },
    {
      "cell_type": "code",
      "metadata": {
        "colab": {
          "base_uri": "https://localhost:8080/"
        },
        "id": "p6sJ8YUezYYv",
        "outputId": "8741dfc2-d079-4e87-f511-8e27913aec30"
      },
      "source": [
        "keypair_measures_RSA"
      ],
      "id": "p6sJ8YUezYYv",
      "execution_count": null,
      "outputs": [
        {
          "output_type": "execute_result",
          "data": {
            "text/plain": [
              "[1.5264911545993527, 0.7257511872005125, 3.6195750465994934, 51.91353893199994]"
            ]
          },
          "metadata": {},
          "execution_count": 56
        }
      ]
    },
    {
      "cell_type": "code",
      "metadata": {
        "id": "ydeHKqc0a1JH"
      },
      "source": [
        "from Crypto.Signature import pkcs1_15"
      ],
      "id": "ydeHKqc0a1JH",
      "execution_count": null,
      "outputs": []
    },
    {
      "cell_type": "markdown",
      "metadata": {
        "id": "9kSPjPpj_MKv"
      },
      "source": [
        "# Скорость подписи и проверки подписи RSA"
      ],
      "id": "9kSPjPpj_MKv"
    },
    {
      "cell_type": "code",
      "metadata": {
        "colab": {
          "base_uri": "https://localhost:8080/"
        },
        "id": "UWqml983bGhv",
        "outputId": "a2623406-027d-4820-b3c1-2a991b307057"
      },
      "source": [
        "#sign/verify\n",
        "signature_measures = []\n",
        "verify_measures = []\n",
        "for block in RSA_blocks:\n",
        "    data = get_random_bytes(1024)\n",
        "    hash = SHA512.new(data)\n",
        "    k = RSA.generate(block)\n",
        "    pkcs = pkcs1_15.new(k)\n",
        "    signature = pkcs.sign(hash)\n",
        "    a = %timeit -o pkcs.sign(hash)\n",
        "    b = %timeit -o pkcs.verify(SHA512.new(data), signature)\n",
        "    signature_measures.append(np.mean(a.all_runs))\n",
        "    verify_measures.append(np.mean(b.all_runs))"
      ],
      "id": "UWqml983bGhv",
      "execution_count": null,
      "outputs": [
        {
          "output_type": "stream",
          "name": "stdout",
          "text": [
            "1000 loops, best of 5: 1.15 ms per loop\n",
            "1000 loops, best of 5: 445 µs per loop\n",
            "100 loops, best of 5: 2.72 ms per loop\n",
            "1000 loops, best of 5: 860 µs per loop\n",
            "100 loops, best of 5: 10.2 ms per loop\n",
            "100 loops, best of 5: 1.89 ms per loop\n",
            "10 loops, best of 5: 52.9 ms per loop\n",
            "100 loops, best of 5: 4.89 ms per loop\n"
          ]
        }
      ]
    },
    {
      "cell_type": "code",
      "metadata": {
        "colab": {
          "base_uri": "https://localhost:8080/"
        },
        "id": "w4WLiOWogAyd",
        "outputId": "ef217eba-c770-49d9-db59-d73d756e2d5e"
      },
      "source": [
        "signature_measures"
      ],
      "id": "w4WLiOWogAyd",
      "execution_count": null,
      "outputs": [
        {
          "output_type": "execute_result",
          "data": {
            "text/plain": [
              "[1.1785568484003306,\n",
              " 0.2772046040001442,\n",
              " 1.0314513619996433,\n",
              " 0.5386263647997112]"
            ]
          },
          "metadata": {},
          "execution_count": 59
        }
      ]
    },
    {
      "cell_type": "code",
      "metadata": {
        "colab": {
          "base_uri": "https://localhost:8080/"
        },
        "id": "9MuwnrCogCps",
        "outputId": "6d45b320-d84b-4db1-b25d-c6477bc77c14"
      },
      "source": [
        "verify_measures"
      ],
      "id": "9MuwnrCogCps",
      "execution_count": null,
      "outputs": [
        {
          "output_type": "execute_result",
          "data": {
            "text/plain": [
              "[0.4658859688002849, 0.8673194899994996, 0.193736295200506, 0.4934858251988771]"
            ]
          },
          "metadata": {},
          "execution_count": 60
        }
      ]
    },
    {
      "cell_type": "markdown",
      "metadata": {
        "id": "Yq2RQNrW_TMd"
      },
      "source": [
        "# Объем используемой памяти"
      ],
      "id": "Yq2RQNrW_TMd"
    },
    {
      "cell_type": "code",
      "metadata": {
        "colab": {
          "base_uri": "https://localhost:8080/"
        },
        "id": "AbXa3THcsbaw",
        "outputId": "8f97d2a7-0945-4d3f-8e82-ab680e913646"
      },
      "source": [
        "!pip install memory_profiler"
      ],
      "id": "AbXa3THcsbaw",
      "execution_count": null,
      "outputs": [
        {
          "output_type": "stream",
          "name": "stdout",
          "text": [
            "Requirement already satisfied: memory_profiler in /usr/local/lib/python3.7/dist-packages (0.58.0)\n",
            "Requirement already satisfied: psutil in /usr/local/lib/python3.7/dist-packages (from memory_profiler) (5.4.8)\n"
          ]
        }
      ]
    },
    {
      "cell_type": "code",
      "metadata": {
        "id": "vhVqes_fzz-o"
      },
      "source": [
        "def make_memory_measures(blocks, RSA_blocks):\n",
        "    for block in blocks:\n",
        "        aes = f'''\n",
        "from memory_profiler import profile\n",
        "from Crypto.Cipher import AES\n",
        "from Crypto.Random import get_random_bytes\n",
        "from Crypto.Util.Padding import pad\n",
        "\n",
        "@profile(precision=5)\n",
        "def f(block_size):\n",
        "    data = get_random_bytes(block_size)\n",
        "    key = get_random_bytes(32)\n",
        "    iv = get_random_bytes(16)\n",
        "    cipher = AES.new(key, AES.MODE_CBC, iv=iv)\n",
        "    cipher.encrypt(pad(data, AES.block_size))\n",
        "\n",
        "if __name__ == \"__main__\":\n",
        "    f({block})\n",
        "        '''\n",
        "        AES_filename = f'AES_{block}.py'\n",
        "        AES_out = f'AES_{block}_out.txt'\n",
        "\n",
        "        with open(AES_filename, 'w') as f:\n",
        "            f.write(aes)\n",
        "        !python3 -m memory_profiler $AES_filename > $AES_out\n",
        "\n",
        "        sha256 = f'''\n",
        "from memory_profiler import profile\n",
        "from Crypto.Hash import SHA256\n",
        "from Crypto.Random import get_random_bytes\n",
        "\n",
        "@profile(precision=5)\n",
        "def f(block_size):\n",
        "    data = get_random_bytes(block_size)\n",
        "    h = SHA256.new(data)\n",
        "    result = h.digest()\n",
        "\n",
        "if __name__ == \"__main__\":\n",
        "    f({block})\n",
        "        '''\n",
        "        SHA256_filename = f'SHA256_{block}.py'\n",
        "        SHA256_out = f'SHA256_{block}_out.txt'\n",
        "\n",
        "        with open(SHA256_filename, 'w') as f:\n",
        "            f.write(sha256)\n",
        "        !python3 -m memory_profiler $SHA256_filename > $SHA256_out\n",
        "\n",
        "        sha512 = f'''\n",
        "from memory_profiler import profile\n",
        "from Crypto.Hash import SHA512\n",
        "from Crypto.Random import get_random_bytes\n",
        "\n",
        "@profile(precision=5)\n",
        "def f(block_size):\n",
        "    data = get_random_bytes(block_size)\n",
        "    h = SHA512.new(data)\n",
        "    result = h.digest()\n",
        "\n",
        "if __name__ == \"__main__\":\n",
        "    f({block})\n",
        "        '''\n",
        "        SHA512_filename = f'SHA512_{block}.py'\n",
        "        SHA512_out = f'SHA512_{block}_out.txt'\n",
        "\n",
        "        with open(SHA512_filename, 'w') as f:\n",
        "            f.write(sha512)\n",
        "        !python3 -m memory_profiler $SHA512_filename > $SHA512_out\n",
        "\n",
        "    for block in RSA_blocks:\n",
        "        rsa_keygen = f'''\n",
        "from Crypto.PublicKey import RSA\n",
        "from memory_profiler import profile\n",
        "\n",
        "@profile(precision=5)\n",
        "def f(block_size):\n",
        "    key = RSA.generate(block_size)\n",
        "\n",
        "if __name__ == \"__main__\":\n",
        "    f({block})\n",
        "        '''\n",
        "        RSA_keygen_filename = f'RSA_keygen_{block}.py'\n",
        "        RSA_keygen_out = f'RSA_keygen_{block}_out.txt'\n",
        "\n",
        "        with open(RSA_keygen_filename, 'w') as f:\n",
        "            f.write(rsa_keygen)\n",
        "        !python3 -m memory_profiler $RSA_keygen_filename > $RSA_keygen_out\n",
        "\n",
        "        rsa_sign_verify = f'''\n",
        "from Crypto.PublicKey import RSA\n",
        "from Crypto.Hash import SHA512\n",
        "from Crypto.Random import get_random_bytes\n",
        "from Crypto.Signature import pkcs1_15\n",
        "from memory_profiler import profile\n",
        "\n",
        "@profile(precision=5)\n",
        "def f(block_size):\n",
        "    data = get_random_bytes(1024)\n",
        "    hash = SHA512.new(data)\n",
        "    k = RSA.generate(block_size)\n",
        "    pkcs = pkcs1_15.new(k)\n",
        "    signature = pkcs.sign(hash)\n",
        "    pkcs.verify(SHA512.new(data), signature)\n",
        "\n",
        "\n",
        "if __name__ == \"__main__\":\n",
        "    f({block})\n",
        "        '''\n",
        "\n",
        "        PKCS_filename = f'PKCS_{block}.py'\n",
        "        PKCS_out = f'PKCS_{block}_out.txt'\n",
        "\n",
        "        with open(PKCS_filename, 'w') as f:\n",
        "            f.write(rsa_sign_verify)\n",
        "        !python3 -m memory_profiler $PKCS_filename > $PKCS_out"
      ],
      "id": "vhVqes_fzz-o",
      "execution_count": null,
      "outputs": []
    },
    {
      "cell_type": "markdown",
      "metadata": {
        "id": "ftI2rQ32_Z8O"
      },
      "source": [
        "# Эта штука создает файлы в корневом каталоге проекта с замерами профайлера"
      ],
      "id": "ftI2rQ32_Z8O"
    },
    {
      "cell_type": "code",
      "metadata": {
        "id": "pM1fE5DJ4TdF"
      },
      "source": [
        "make_memory_measures(blocks, RSA_blocks)"
      ],
      "id": "pM1fE5DJ4TdF",
      "execution_count": null,
      "outputs": []
    },
    {
      "cell_type": "markdown",
      "metadata": {
        "id": "Pvf_XXf9_0c2"
      },
      "source": [
        "# Замеры скорости openssl"
      ],
      "id": "Pvf_XXf9_0c2"
    },
    {
      "cell_type": "code",
      "metadata": {
        "colab": {
          "base_uri": "https://localhost:8080/"
        },
        "id": "TNj8IQK0_u-Z",
        "outputId": "62805f8d-6550-4f0c-e9ed-24e938ca98f9"
      },
      "source": [
        "!openssl speed aes rsa sha256 sha512"
      ],
      "id": "TNj8IQK0_u-Z",
      "execution_count": null,
      "outputs": [
        {
          "output_type": "stream",
          "name": "stdout",
          "text": [
            "Doing sha256 for 3s on 16 size blocks: 12977216 sha256's in 2.99s\n",
            "Doing sha256 for 3s on 64 size blocks: 7374919 sha256's in 2.99s\n",
            "Doing sha256 for 3s on 256 size blocks: 3429656 sha256's in 2.99s\n",
            "Doing sha256 for 3s on 1024 size blocks: 1083009 sha256's in 2.99s\n",
            "Doing sha256 for 3s on 8192 size blocks: 145772 sha256's in 3.00s\n",
            "Doing sha256 for 3s on 16384 size blocks: 71871 sha256's in 2.99s\n",
            "Doing sha512 for 3s on 16 size blocks: 9023077 sha512's in 2.99s\n",
            "Doing sha512 for 3s on 64 size blocks: 9081303 sha512's in 2.99s\n",
            "Doing sha512 for 3s on 256 size blocks: 3913032 sha512's in 2.99s\n",
            "Doing sha512 for 3s on 1024 size blocks: 1435349 sha512's in 2.99s\n",
            "Doing sha512 for 3s on 8192 size blocks: 213890 sha512's in 2.99s\n",
            "Doing sha512 for 3s on 16384 size blocks: 108514 sha512's in 3.00s\n",
            "Doing aes-128 cbc for 3s on 16 size blocks: 22416788 aes-128 cbc's in 2.99s\n",
            "Doing aes-128 cbc for 3s on 64 size blocks: 6345486 aes-128 cbc's in 2.99s\n",
            "Doing aes-128 cbc for 3s on 256 size blocks: 1612666 aes-128 cbc's in 2.99s\n",
            "Doing aes-128 cbc for 3s on 1024 size blocks: 404677 aes-128 cbc's in 3.00s\n",
            "Doing aes-128 cbc for 3s on 8192 size blocks: 51590 aes-128 cbc's in 3.00s\n",
            "Doing aes-128 cbc for 3s on 16384 size blocks: 25786 aes-128 cbc's in 3.00s\n",
            "Doing aes-192 cbc for 3s on 16 size blocks: 19265203 aes-192 cbc's in 2.99s\n",
            "Doing aes-192 cbc for 3s on 64 size blocks: 5198287 aes-192 cbc's in 3.00s\n",
            "Doing aes-192 cbc for 3s on 256 size blocks: 1345667 aes-192 cbc's in 3.00s\n",
            "Doing aes-192 cbc for 3s on 1024 size blocks: 341531 aes-192 cbc's in 3.00s\n",
            "Doing aes-192 cbc for 3s on 8192 size blocks: 42543 aes-192 cbc's in 3.00s\n",
            "Doing aes-192 cbc for 3s on 16384 size blocks: 21525 aes-192 cbc's in 3.00s\n",
            "Doing aes-256 cbc for 3s on 16 size blocks: 16734616 aes-256 cbc's in 2.99s\n",
            "Doing aes-256 cbc for 3s on 64 size blocks: 4486475 aes-256 cbc's in 3.00s\n",
            "Doing aes-256 cbc for 3s on 256 size blocks: 1149938 aes-256 cbc's in 3.00s\n",
            "Doing aes-256 cbc for 3s on 1024 size blocks: 289225 aes-256 cbc's in 3.00s\n",
            "Doing aes-256 cbc for 3s on 8192 size blocks: 36273 aes-256 cbc's in 3.00s\n",
            "Doing aes-256 cbc for 3s on 16384 size blocks: 18193 aes-256 cbc's in 2.99s\n",
            "Doing 512 bits private rsa's for 10s: 206068 512 bits private RSA's in 10.00s\n",
            "Doing 512 bits public rsa's for 10s: 3744876 512 bits public RSA's in 10.00s\n",
            "Doing 1024 bits private rsa's for 10s: 95834 1024 bits private RSA's in 9.98s\n",
            "Doing 1024 bits public rsa's for 10s: 1575945 1024 bits public RSA's in 10.00s\n",
            "Doing 2048 bits private rsa's for 10s: 14984 2048 bits private RSA's in 10.00s\n",
            "Doing 2048 bits public rsa's for 10s: 514129 2048 bits public RSA's in 9.99s\n",
            "Doing 3072 bits private rsa's for 10s: 4966 3072 bits private RSA's in 9.99s\n",
            "Doing 3072 bits public rsa's for 10s: 246721 3072 bits public RSA's in 10.00s\n",
            "Doing 4096 bits private rsa's for 10s: 2237 4096 bits private RSA's in 10.00s\n",
            "Doing 4096 bits public rsa's for 10s: 145398 4096 bits public RSA's in 10.00s\n",
            "Doing 7680 bits private rsa's for 10s: 243 7680 bits private RSA's in 10.02s\n",
            "Doing 7680 bits public rsa's for 10s: 43198 7680 bits public RSA's in 10.00s\n",
            "Doing 15360 bits private rsa's for 10s: 48 15360 bits private RSA's in 10.10s\n",
            "Doing 15360 bits public rsa's for 10s: 11116 15360 bits public RSA's in 9.99s\n",
            "OpenSSL 1.1.1  11 Sep 2018\n",
            "built on: Mon Aug 23 17:02:39 2021 UTC\n",
            "options:bn(64,64) rc4(16x,int) des(int) aes(partial) blowfish(ptr) \n",
            "compiler: gcc -fPIC -pthread -m64 -Wa,--noexecstack -Wall -Wa,--noexecstack -g -O2 -fdebug-prefix-map=/build/openssl-Flav1L/openssl-1.1.1=. -fstack-protector-strong -Wformat -Werror=format-security -DOPENSSL_USE_NODELETE -DL_ENDIAN -DOPENSSL_PIC -DOPENSSL_CPUID_OBJ -DOPENSSL_IA32_SSE2 -DOPENSSL_BN_ASM_MONT -DOPENSSL_BN_ASM_MONT5 -DOPENSSL_BN_ASM_GF2m -DSHA1_ASM -DSHA256_ASM -DSHA512_ASM -DKECCAK1600_ASM -DRC4_ASM -DMD5_ASM -DAES_ASM -DVPAES_ASM -DBSAES_ASM -DGHASH_ASM -DECP_NISTZ256_ASM -DX25519_ASM -DPADLOCK_ASM -DPOLY1305_ASM -DNDEBUG -Wdate-time -D_FORTIFY_SOURCE=2\n",
            "The 'numbers' are in 1000s of bytes per second processed.\n",
            "type             16 bytes     64 bytes    256 bytes   1024 bytes   8192 bytes  16384 bytes\n",
            "aes-128 cbc     119956.06k   135823.11k   138074.41k   138129.75k   140875.09k   140825.94k\n",
            "aes-192 cbc     103091.39k   110896.79k   114830.25k   116575.91k   116170.75k   117555.20k\n",
            "aes-256 cbc      89549.78k    95711.47k    98128.04k    98722.13k    99049.47k    99690.34k\n",
            "sha256           69443.30k   157857.80k   293642.79k   370903.42k   398054.74k   393824.24k\n",
            "sha512           48284.02k   194382.41k   335028.83k   491571.03k   586015.68k   592631.13k\n",
            "                  sign    verify    sign/s verify/s\n",
            "rsa  512 bits 0.000049s 0.000003s  20606.8 374487.6\n",
            "rsa 1024 bits 0.000104s 0.000006s   9602.6 157594.5\n",
            "rsa 2048 bits 0.000667s 0.000019s   1498.4  51464.4\n",
            "rsa 3072 bits 0.002012s 0.000041s    497.1  24672.1\n",
            "rsa 4096 bits 0.004470s 0.000069s    223.7  14539.8\n",
            "rsa 7680 bits 0.041235s 0.000231s     24.3   4319.8\n",
            "rsa 15360 bits 0.210417s 0.000899s      4.8   1112.7\n"
          ]
        }
      ]
    },
    {
      "cell_type": "markdown",
      "metadata": {
        "id": "Fs3bwa1t_4FY"
      },
      "source": [
        "# Построение графиков было в планах, но не допилил"
      ],
      "id": "Fs3bwa1t_4FY"
    },
    {
      "cell_type": "code",
      "metadata": {
        "id": "d82d7af4"
      },
      "source": [
        "def plot(measures, blocks, algorithm):\n",
        "    m = []\n",
        "    for measure in measures:\n",
        "        val, metric = str(measure).split(' ')[:2]\n",
        "        val = float(val)\n",
        "        if metric == 'µs':\n",
        "            val = round(val / 1000, 5)\n",
        "        m.append(val)\n",
        "#     print(len(blocks), len(m))\n",
        "    figure = plt.figure(figsize=(16, 9))\n",
        "    sns.lineplot(x=blocks, y=m, marker='o')\n",
        "    plt.xlabel('Data length, bytes')\n",
        "    plt.ylabel('Time of encryption, ms')\n",
        "    plt.title(f'{algorithm} measures')\n",
        "    plt.show()\n",
        "    return m"
      ],
      "id": "d82d7af4",
      "execution_count": null,
      "outputs": []
    },
    {
      "cell_type": "code",
      "metadata": {
        "id": "bf9bee11",
        "outputId": "05bd2253-fadf-4f96-a7cb-bd83bcca257c"
      },
      "source": [
        "len(measures)"
      ],
      "id": "bf9bee11",
      "execution_count": null,
      "outputs": [
        {
          "data": {
            "text/plain": [
              "6"
            ]
          },
          "execution_count": 158,
          "metadata": {},
          "output_type": "execute_result"
        }
      ]
    },
    {
      "cell_type": "code",
      "metadata": {
        "id": "8caf5689",
        "outputId": "d168cf39-9062-4d33-fa54-6c9ec45068ed"
      },
      "source": [
        "plot(measures, blocks, 'AES')"
      ],
      "id": "8caf5689",
      "execution_count": null,
      "outputs": [
        {
          "data": {
            "image/png": "[encoded data removed]",
            "text/plain": [
              "<Figure size 1152x648 with 1 Axes>"
            ]
          },
          "metadata": {},
          "output_type": "display_data"
        },
        {
          "data": {
            "text/plain": [
              "[0.0311, 0.0322, 0.0343, 0.0426, 0.129, 0.218]"
            ]
          },
          "execution_count": 159,
          "metadata": {},
          "output_type": "execute_result"
        }
      ]
    },
    {
      "cell_type": "code",
      "metadata": {
        "id": "bcd5ad1c"
      },
      "source": [
        ""
      ],
      "id": "bcd5ad1c",
      "execution_count": null,
      "outputs": []
    },
    {
      "cell_type": "code",
      "metadata": {
        "id": "b7da5a6e",
        "outputId": "c61c030d-bf37-4cae-c04b-fcae0604a7cb"
      },
      "source": [
        "measures = []\n",
        "for block in blocks:\n",
        "    data = get_random_bytes(block)\n",
        "    a = %timeit -o hash_ = SHA256.new(data).digest()\n",
        "#      -o ct = cipher.encrypt(pad(data, AES.block_size))\n",
        "    measures.append(a)"
      ],
      "id": "b7da5a6e",
      "execution_count": null,
      "outputs": [
        {
          "name": "stdout",
          "output_type": "stream",
          "text": [
            "31.1 µs ± 1.45 µs per loop (mean ± std. dev. of 7 runs, 10000 loops each)\n",
            "32.2 µs ± 1.14 µs per loop (mean ± std. dev. of 7 runs, 10000 loops each)\n",
            "34.3 µs ± 2.14 µs per loop (mean ± std. dev. of 7 runs, 10000 loops each)\n",
            "42.6 µs ± 1.14 µs per loop (mean ± std. dev. of 7 runs, 10000 loops each)\n",
            "129 µs ± 6.33 µs per loop (mean ± std. dev. of 7 runs, 10000 loops each)\n",
            "218 µs ± 5.21 µs per loop (mean ± std. dev. of 7 runs, 1000 loops each)\n"
          ]
        }
      ]
    },
    {
      "cell_type": "code",
      "metadata": {
        "id": "a47aa0cb",
        "outputId": "14eb468f-7766-4c79-f05f-25b8691b9878"
      },
      "source": [
        "plot(measures, blocks, 'SHA256')"
      ],
      "id": "a47aa0cb",
      "execution_count": null,
      "outputs": [
        {
          "data": {
            "image/png": "[encoded data removed]",
            "text/plain": [
              "<Figure size 1152x648 with 1 Axes>"
            ]
          },
          "metadata": {},
          "output_type": "display_data"
        },
        {
          "data": {
            "text/plain": [
              "[0.0311, 0.0322, 0.0343, 0.0426, 0.129, 0.218]"
            ]
          },
          "execution_count": 160,
          "metadata": {},
          "output_type": "execute_result"
        }
      ]
    },
    {
      "cell_type": "code",
      "metadata": {
        "id": "5f75cce5"
      },
      "source": [
        ""
      ],
      "id": "5f75cce5",
      "execution_count": null,
      "outputs": []
    }
  ]
}